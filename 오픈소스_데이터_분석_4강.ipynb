{
  "nbformat": 4,
  "nbformat_minor": 0,
  "metadata": {
    "colab": {
      "provenance": [],
      "include_colab_link": true
    },
    "kernelspec": {
      "name": "python3",
      "display_name": "Python 3"
    },
    "language_info": {
      "name": "python"
    }
  },
  "cells": [
    {
      "cell_type": "markdown",
      "metadata": {
        "id": "view-in-github",
        "colab_type": "text"
      },
      "source": [
        "<a href=\"https://colab.research.google.com/github/BlackSiru/Data-Analysis-with-Open-Source/blob/main/%EC%98%A4%ED%94%88%EC%86%8C%EC%8A%A4_%EB%8D%B0%EC%9D%B4%ED%84%B0_%EB%B6%84%EC%84%9D_4%EA%B0%95.ipynb\" target=\"_parent\"><img src=\"https://colab.research.google.com/assets/colab-badge.svg\" alt=\"Open In Colab\"/></a>"
      ]
    },
    {
      "cell_type": "markdown",
      "source": [
        "\n",
        "\n",
        "# 오픈소스 기반 데이터 분석 4강 - 데이터 수집\n"
      ],
      "metadata": {
        "id": "DkPKaAsoRq5Q"
      }
    },
    {
      "cell_type": "markdown",
      "source": [
        "## 4-1 CSV 파일 읽기"
      ],
      "metadata": {
        "id": "-I7BVVlnRrB0"
      }
    },
    {
      "cell_type": "code",
      "source": [
        "import pandas as pd\n",
        "\n",
        "## data.csv 파일 읽기\n",
        "\n",
        "print(df)"
      ],
      "metadata": {
        "id": "2Y2HEiaiRwAI"
      },
      "execution_count": null,
      "outputs": []
    },
    {
      "cell_type": "markdown",
      "source": [
        "## 4-2 JSON 파일 읽기\n",
        "\n"
      ],
      "metadata": {
        "id": "9kHCFaGlRrE0"
      }
    },
    {
      "cell_type": "code",
      "source": [
        "import json\n",
        "import pandas as pd\n",
        "\n",
        "## data.json 파일 출력\n",
        "\n",
        "## data.json 파일 DataFrame 읽기\n",
        "\n",
        "print(df)"
      ],
      "metadata": {
        "id": "IO8bsKekR0W_"
      },
      "execution_count": null,
      "outputs": []
    },
    {
      "cell_type": "markdown",
      "source": [
        "## 4-3 텍스트 파일 읽기 및 데이터 추출"
      ],
      "metadata": {
        "id": "uLd_3A_IRrHG"
      }
    },
    {
      "cell_type": "code",
      "source": [
        "import re\n",
        "\n",
        "## 파일(callcenter20250301.log) 오픈 및 읽기\n",
        "with open('callcenter20250301.log', 'r', encoding='utf-8') as f:\n",
        "    content = f.read()\n",
        "## 주민등록번호 패턴 생성\n",
        "\n",
        "## 주민등록번호 마스킹\n",
        "\n",
        "\n",
        "## 마스킹된 파일(callcenter20250301_masked.log) 오픈 및 쓰기\n",
        "\n",
        "\n",
        "print(\"주민등록번호 마스킹 완료. 'callcenter20250301_masked.log.txt' 파일로 저장되었습니다.\")"
      ],
      "metadata": {
        "id": "60qOf7uxVdAg"
      },
      "execution_count": null,
      "outputs": []
    },
    {
      "cell_type": "markdown",
      "source": [
        "## 4-4 Open-Meteo의 무료 날씨 API를 통한 특정 지역 온도 조회"
      ],
      "metadata": {
        "id": "eOMufu5SXiAU"
      }
    },
    {
      "cell_type": "code",
      "source": [
        "import requests\n",
        "import json\n",
        "\n",
        "url = \"https://api.open-meteo.com/v1/forecast?=&=&current=temperature_2m\"\n",
        "params = {\n",
        "    \"latitude\": \"37.58638333\",\n",
        "    \"longitude\": \"127.0203333\",\n",
        "    \"current\": \"temperature_2m\"\n",
        "}\n",
        "\n",
        "try:\n",
        "    ## URL 및 파라미터 전송\n",
        "\n",
        "    ## JSON 데이터 읽기\n",
        "\n",
        "    print(\"API 응답:\", data)\n",
        "    print(\"서울시 종로구의 현재 온도는 : {0}{1} 입니다.\".format(data['current']['temperature_2m'], data['current_units']['temperature_2m']))\n",
        "\n",
        "except requests.exceptions.RequestException as e:\n",
        "    print(f\"API 호출 실패: {e}\")\n",
        "except json.JSONDecodeError as e:\n",
        "    print(f\"JSON 파싱 실패: {e}\")"
      ],
      "metadata": {
        "id": "JpmgdsW9V0CY"
      },
      "execution_count": null,
      "outputs": []
    },
    {
      "cell_type": "markdown",
      "source": [
        "## 4-5 Selenium과 lxml을 이용한 웹 스크래핑"
      ],
      "metadata": {
        "id": "RLfPaa1ZiqIC"
      }
    },
    {
      "cell_type": "code",
      "source": [
        "!curl -o google-chrome-stable_current_amd64.deb https://dl.google.com/linux/direct/google-chrome-stable_current_amd64.deb\n",
        "!apt install ./google-chrome-stable_current_amd64.deb -y\n",
        "!pip install selenium webdriver_manager"
      ],
      "metadata": {
        "id": "79dmM7MNk8pB"
      },
      "execution_count": null,
      "outputs": []
    },
    {
      "cell_type": "code",
      "source": [
        "from selenium import webdriver\n",
        "from selenium.webdriver.chrome.service import Service as ChromeService\n",
        "from webdriver_manager.chrome import ChromeDriverManager\n",
        "from selenium.webdriver.common.by import By\n",
        "from lxml import html\n",
        "import time\n",
        "\n",
        "chrome_options = webdriver.ChromeOptions()\n",
        "chrome_options.add_argument('--headless')               # 브라우저 창 없이 실행\n",
        "chrome_options.add_argument('--no-sandbox')             # 보안모드 비활성화 (Colab 필수)\n",
        "chrome_options.add_argument('--disable-dev-shm-usage')  # 메모리 부족 방지 (Colab 필수)\n",
        "chrome_options.add_argument('--window-size=1920x1080')  # 창 크기 설정(가상)\n",
        "chrome_options.add_argument('--disable-gpu')            # GPU 가속 비활성화 (일부 환경 안정성)\n",
        "chrome_options.binary_location = \"/usr/bin/google-chrome-stable\"  # Colab용 크롬 경로 지정\n",
        "\n",
        "## 드라이버 실행\n",
        "driver = webdriver.Chrome(options=chrome_options)\n",
        "\n",
        "## 사이트 접속\n",
        "\n",
        "\n",
        "## 사이트 접속 대기\n",
        "\n",
        "\n",
        "## 페이지 제목 출력\n",
        "\n",
        "\n",
        "## 드라이버 종료\n",
        "driver.quit()"
      ],
      "metadata": {
        "id": "cRC8x3_iW0im"
      },
      "execution_count": null,
      "outputs": []
    },
    {
      "cell_type": "markdown",
      "source": [
        "\n",
        "# 실습 시나리오"
      ],
      "metadata": {
        "id": "Bu6OMZyGirOq"
      }
    },
    {
      "cell_type": "markdown",
      "source": [
        "## 공공데이터 포털 가입 및 데이터 신청\n",
        "\n",
        "- [https://www.data.go.kr](https://www.data.go.kr)\n",
        "- 한국환경공단 에어코리아 대기오염정보 데이터 신청"
      ],
      "metadata": {
        "id": "nsuqRN9RkZlW"
      }
    },
    {
      "cell_type": "code",
      "source": [
        "import requests\n",
        "\n",
        "## 데이터 수집 url 및 api key 설정\n",
        "url = 'http://apis.data.go.kr/B552584/ArpltnInforInqireSvc/getCtprvnRltmMesureDnsty'\n",
        "api_key = '발급받은인증키'\n",
        "\n",
        "params = {\n",
        "    'serviceKey': api_key,\n",
        "    'returnType': 'json',\n",
        "    'numOfRows': '100',\n",
        "    'pageNo': '1',\n",
        "    'sidoName': '서울',\n",
        "    'ver': '1.0'\n",
        "}\n",
        "\n",
        "## 데이터 수집\n",
        "response = requests.get(url, params = params)\n",
        "\n",
        "## 호출 성공/실패 출력\n",
        "if response.status_code == 200:\n",
        "    print('API 호출 성공')\n",
        "    print(response.json())\n",
        "else:\n",
        "    print(f'API 호출 실패:{response.status_code}')\n"
      ],
      "metadata": {
        "id": "7yCozmQeXJcO"
      },
      "execution_count": null,
      "outputs": []
    },
    {
      "cell_type": "code",
      "source": [
        "import requests\n",
        "\n",
        "## 데이터 수집 url 및 api key 설정\n",
        "\n",
        "api_key = '544b5145596d756337324c73597576'\n",
        "\n",
        "service = 'energyUseDataSummaryInfo'\n",
        "start_index = '1'\n",
        "end_index = '5'\n",
        "year = '2015'\n",
        "mon = '01'\n",
        "\n",
        "url = f\"http://openapi.seoul.go.kr:8088/{api_key}/json/{service}/{start_index}/{end_index}/{year}/{mon}\"\n",
        "\n",
        "\n",
        "## 데이터 수집\n",
        "response = requests.get(url, params = params)\n",
        "\n",
        "## 호출 성공/실패 출력\n",
        "if response.status_code == 200:\n",
        "    print('API 호출 성공')\n",
        "    print(response.json())\n",
        "else:\n",
        "    print(f'API 호출 실패:{response.status_code}')\n",
        "\n",
        "\n"
      ],
      "metadata": {
        "id": "xMQqRTs3bvbO",
        "outputId": "eec8e1df-fdd6-4128-f276-d76c8d4f33cd",
        "colab": {
          "base_uri": "https://localhost:8080/"
        }
      },
      "execution_count": 22,
      "outputs": [
        {
          "output_type": "stream",
          "name": "stdout",
          "text": [
            "API 호출 성공\n",
            "{'energyUseDataSummaryInfo': {'list_total_count': 7, 'RESULT': {'CODE': 'INFO-000', 'MESSAGE': '정상 처리되었습니다'}, 'row': [{'YEAR': '2015', 'MON': '01', 'MM_TYPE': '개인', 'CNT': '767791', 'EUS': '193784708', 'EUS1': '194781915', 'EUS2': '204969429', 'ECO2_1': '-6090964', 'ECO2_2': '-2582568.736', 'GUS': '59133720', 'GUS1': '57163993', 'GUS2': '68297619', 'GCO2_1': '-3597086', 'GCO2_2': '-8057472.64', 'WUS': '12819757.886', 'WUS1': '12723680.426', 'WUS2': '12899476.73', 'WCO2_1': '8179.308', 'WCO2_2': '2715.530256', 'HUS': '22740838.937', 'HUS1': '23400055.303', 'HUS2': '27090493.875', 'HCO2_1': '-2504435.652', 'HCO2_2': '-33660084.213069', 'REG_DATE': '2015-06-04 17:03:55.0'}, {'YEAR': '2015', 'MON': '01', 'MM_TYPE': '학교', 'CNT': '1382', 'EUS': '134955565', 'EUS1': '128707423', 'EUS2': '145561511', 'ECO2_1': '-2178902', 'ECO2_2': '-923854.448', 'GUS': '9107197', 'GUS1': '8410968', 'GUS2': '10745416', 'GCO2_1': '-470995', 'GCO2_2': '-1055028.8', 'WUS': '2075819.2', 'WUS1': '2097433.8', 'WUS2': '2133200.8', 'WCO2_1': '-39498.1', 'WCO2_2': '-13113.3692', 'HUS': '0', 'HUS1': '0', 'HUS2': '0', 'HCO2_1': '0', 'HCO2_2': '0', 'REG_DATE': '2015-06-04 17:03:55.0'}, {'YEAR': '2015', 'MON': '01', 'MM_TYPE': '종교단체', 'CNT': '32', 'EUS': '372270', 'EUS1': '363376', 'EUS2': '411363', 'ECO2_1': '-15099.5', 'ECO2_2': '-6402.188', 'GUS': '53331', 'GUS1': '45727', 'GUS2': '63312', 'GCO2_1': '-1188.5', 'GCO2_2': '-2662.24', 'WUS': '5945', 'WUS1': '4548', 'WUS2': '4519', 'WCO2_1': '1411.5', 'WCO2_2': '468.618', 'HUS': '0', 'HUS1': '0', 'HUS2': '0', 'HCO2_1': '0', 'HCO2_2': '0', 'REG_DATE': '2015-06-04 17:03:55.0'}, {'YEAR': '2015', 'MON': '01', 'MM_TYPE': '소상공인', 'CNT': '2058', 'EUS': '10249618', 'EUS1': '9927610', 'EUS2': '11039593', 'ECO2_1': '-233983.5', 'ECO2_2': '-99209.004', 'GUS': '536119', 'GUS1': '523810', 'GUS2': '642921', 'GCO2_1': '-47246.5', 'GCO2_2': '-105832.16', 'WUS': '147273', 'WUS1': '146480.6', 'WUS2': '147325.6', 'WCO2_1': '369.9', 'WCO2_2': '122.8068', 'HUS': '0', 'HUS1': '0', 'HUS2': '0', 'HCO2_1': '0', 'HCO2_2': '0', 'REG_DATE': '2015-06-04 17:03:55.0'}, {'YEAR': '2015', 'MON': '01', 'MM_TYPE': '공동주택관리소', 'CNT': '1747', 'EUS': '327102096', 'EUS1': '329852334', 'EUS2': '351694752', 'ECO2_1': '-13671447', 'ECO2_2': '-5796693.528', 'GUS': '22834274', 'GUS1': '21141017', 'GUS2': '25338506', 'GCO2_1': '-405487.5', 'GCO2_2': '-908292', 'WUS': '12844807.5', 'WUS1': '12763070', 'WUS2': '12979835.8', 'WCO2_1': '-26645.4', 'WCO2_2': '-8846.2728', 'HUS': '0', 'HUS1': '0', 'HUS2': '0', 'HCO2_1': '0', 'HCO2_2': '0', 'REG_DATE': '2015-06-04 17:03:55.0'}]}}\n"
          ]
        }
      ]
    },
    {
      "cell_type": "code",
      "source": [
        "import requests\n",
        "import pprint # JSON 출력을 보기 좋게 하기 위함\n",
        "\n",
        "## 데이터 수집 url 및 api key 설정\n",
        "\n",
        "# 1. 올바른 형식의 API 키를 변수에 저장합니다. (특수문자 제거)\n",
        "api_key = '544b5145596d756337324c73597576'\n",
        "\n",
        "# 2. URL에 필요한 정보들을 각각의 변수로 정의합니다.\n",
        "service = 'energyUseDataSummaryInfo'\n",
        "start_index = '1'\n",
        "end_index = '5'\n",
        "year = '2015'\n",
        "month = '01'\n",
        "\n",
        "# 3. f-string을 사용하여 깨끗하고 올바른 URL을 만듭니다.\n",
        "url = f\"http://openapi.seoul.go.kr:8088/{api_key}/json/{service}/{start_index}/{end_index}/{year}/{month}\"\n",
        "\n",
        "print(f\"요청 URL: {url}\\n\")\n",
        "\n",
        "## 데이터 수집\n",
        "# 4. params 인자 없이, 생성된 url만 사용하여 API를 호출합니다.\n",
        "try:\n",
        "    response = requests.get(url)\n",
        "    response.raise_for_status() # HTTP 오류 발생 시 예외를 일으킴\n",
        "\n",
        "    ## 호출 성공/실패 출력\n",
        "    data = response.json()\n",
        "\n",
        "    # API 내부 응답 코드 확인\n",
        "    # 성공 시 data 딕셔너리 안에 'RESULT' 키가 없을 수도 있으므로 get()을 사용\n",
        "    result_info = data.get(service, {}).get('RESULT', {})\n",
        "\n",
        "    if result_info.get('CODE') == 'INFO-000':\n",
        "        print('✅ API 호출 성공')\n",
        "        pprint.pprint(data)\n",
        "    else:\n",
        "        print(f\"❌ API 호출 실패 (API 내부 오류)\")\n",
        "        print(f\"오류 코드: {result_info.get('CODE')}\")\n",
        "        print(f\"오류 메시지: {result_info.get('MESSAGE')}\")\n",
        "\n",
        "except requests.exceptions.HTTPError as e:\n",
        "    print(f\"❌ API 호출 실패 (HTTP 오류: {e.response.status_code})\")\n",
        "except requests.exceptions.RequestException as e:\n",
        "    print(f\"❌ API 호출 실패 (연결 오류: {e})\")"
      ],
      "metadata": {
        "id": "TIBwS0vmgZul",
        "outputId": "2357bbc4-b9b1-4597-d99d-e1012233b7a0",
        "colab": {
          "base_uri": "https://localhost:8080/"
        }
      },
      "execution_count": 9,
      "outputs": [
        {
          "output_type": "stream",
          "name": "stdout",
          "text": [
            "요청 URL: http://openapi.seoul.go.kr:8088/544b5145596d756337324c73597576/json/energyUseDataSummaryInfo/1/5/2015/01\n",
            "\n",
            "✅ API 호출 성공\n",
            "{'energyUseDataSummaryInfo': {'RESULT': {'CODE': 'INFO-000',\n",
            "                                         'MESSAGE': '정상 처리되었습니다'},\n",
            "                              'list_total_count': 7,\n",
            "                              'row': [{'CNT': '767791',\n",
            "                                       'ECO2_1': '-6090964',\n",
            "                                       'ECO2_2': '-2582568.736',\n",
            "                                       'EUS': '193784708',\n",
            "                                       'EUS1': '194781915',\n",
            "                                       'EUS2': '204969429',\n",
            "                                       'GCO2_1': '-3597086',\n",
            "                                       'GCO2_2': '-8057472.64',\n",
            "                                       'GUS': '59133720',\n",
            "                                       'GUS1': '57163993',\n",
            "                                       'GUS2': '68297619',\n",
            "                                       'HCO2_1': '-2504435.652',\n",
            "                                       'HCO2_2': '-33660084.213069',\n",
            "                                       'HUS': '22740838.937',\n",
            "                                       'HUS1': '23400055.303',\n",
            "                                       'HUS2': '27090493.875',\n",
            "                                       'MM_TYPE': '개인',\n",
            "                                       'MON': '01',\n",
            "                                       'REG_DATE': '2015-06-04 17:03:55.0',\n",
            "                                       'WCO2_1': '8179.308',\n",
            "                                       'WCO2_2': '2715.530256',\n",
            "                                       'WUS': '12819757.886',\n",
            "                                       'WUS1': '12723680.426',\n",
            "                                       'WUS2': '12899476.73',\n",
            "                                       'YEAR': '2015'},\n",
            "                                      {'CNT': '1382',\n",
            "                                       'ECO2_1': '-2178902',\n",
            "                                       'ECO2_2': '-923854.448',\n",
            "                                       'EUS': '134955565',\n",
            "                                       'EUS1': '128707423',\n",
            "                                       'EUS2': '145561511',\n",
            "                                       'GCO2_1': '-470995',\n",
            "                                       'GCO2_2': '-1055028.8',\n",
            "                                       'GUS': '9107197',\n",
            "                                       'GUS1': '8410968',\n",
            "                                       'GUS2': '10745416',\n",
            "                                       'HCO2_1': '0',\n",
            "                                       'HCO2_2': '0',\n",
            "                                       'HUS': '0',\n",
            "                                       'HUS1': '0',\n",
            "                                       'HUS2': '0',\n",
            "                                       'MM_TYPE': '학교',\n",
            "                                       'MON': '01',\n",
            "                                       'REG_DATE': '2015-06-04 17:03:55.0',\n",
            "                                       'WCO2_1': '-39498.1',\n",
            "                                       'WCO2_2': '-13113.3692',\n",
            "                                       'WUS': '2075819.2',\n",
            "                                       'WUS1': '2097433.8',\n",
            "                                       'WUS2': '2133200.8',\n",
            "                                       'YEAR': '2015'},\n",
            "                                      {'CNT': '32',\n",
            "                                       'ECO2_1': '-15099.5',\n",
            "                                       'ECO2_2': '-6402.188',\n",
            "                                       'EUS': '372270',\n",
            "                                       'EUS1': '363376',\n",
            "                                       'EUS2': '411363',\n",
            "                                       'GCO2_1': '-1188.5',\n",
            "                                       'GCO2_2': '-2662.24',\n",
            "                                       'GUS': '53331',\n",
            "                                       'GUS1': '45727',\n",
            "                                       'GUS2': '63312',\n",
            "                                       'HCO2_1': '0',\n",
            "                                       'HCO2_2': '0',\n",
            "                                       'HUS': '0',\n",
            "                                       'HUS1': '0',\n",
            "                                       'HUS2': '0',\n",
            "                                       'MM_TYPE': '종교단체',\n",
            "                                       'MON': '01',\n",
            "                                       'REG_DATE': '2015-06-04 17:03:55.0',\n",
            "                                       'WCO2_1': '1411.5',\n",
            "                                       'WCO2_2': '468.618',\n",
            "                                       'WUS': '5945',\n",
            "                                       'WUS1': '4548',\n",
            "                                       'WUS2': '4519',\n",
            "                                       'YEAR': '2015'},\n",
            "                                      {'CNT': '2058',\n",
            "                                       'ECO2_1': '-233983.5',\n",
            "                                       'ECO2_2': '-99209.004',\n",
            "                                       'EUS': '10249618',\n",
            "                                       'EUS1': '9927610',\n",
            "                                       'EUS2': '11039593',\n",
            "                                       'GCO2_1': '-47246.5',\n",
            "                                       'GCO2_2': '-105832.16',\n",
            "                                       'GUS': '536119',\n",
            "                                       'GUS1': '523810',\n",
            "                                       'GUS2': '642921',\n",
            "                                       'HCO2_1': '0',\n",
            "                                       'HCO2_2': '0',\n",
            "                                       'HUS': '0',\n",
            "                                       'HUS1': '0',\n",
            "                                       'HUS2': '0',\n",
            "                                       'MM_TYPE': '소상공인',\n",
            "                                       'MON': '01',\n",
            "                                       'REG_DATE': '2015-06-04 17:03:55.0',\n",
            "                                       'WCO2_1': '369.9',\n",
            "                                       'WCO2_2': '122.8068',\n",
            "                                       'WUS': '147273',\n",
            "                                       'WUS1': '146480.6',\n",
            "                                       'WUS2': '147325.6',\n",
            "                                       'YEAR': '2015'},\n",
            "                                      {'CNT': '1747',\n",
            "                                       'ECO2_1': '-13671447',\n",
            "                                       'ECO2_2': '-5796693.528',\n",
            "                                       'EUS': '327102096',\n",
            "                                       'EUS1': '329852334',\n",
            "                                       'EUS2': '351694752',\n",
            "                                       'GCO2_1': '-405487.5',\n",
            "                                       'GCO2_2': '-908292',\n",
            "                                       'GUS': '22834274',\n",
            "                                       'GUS1': '21141017',\n",
            "                                       'GUS2': '25338506',\n",
            "                                       'HCO2_1': '0',\n",
            "                                       'HCO2_2': '0',\n",
            "                                       'HUS': '0',\n",
            "                                       'HUS1': '0',\n",
            "                                       'HUS2': '0',\n",
            "                                       'MM_TYPE': '공동주택관리소',\n",
            "                                       'MON': '01',\n",
            "                                       'REG_DATE': '2015-06-04 17:03:55.0',\n",
            "                                       'WCO2_1': '-26645.4',\n",
            "                                       'WCO2_2': '-8846.2728',\n",
            "                                       'WUS': '12844807.5',\n",
            "                                       'WUS1': '12763070',\n",
            "                                       'WUS2': '12979835.8',\n",
            "                                       'YEAR': '2015'}]}}\n"
          ]
        }
      ]
    }
  ]
}